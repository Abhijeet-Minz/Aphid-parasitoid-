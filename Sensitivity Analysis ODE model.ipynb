{
 "cells": [
  {
   "cell_type": "code",
   "execution_count": 3,
   "id": "d9844c4f",
   "metadata": {},
   "outputs": [],
   "source": [
    "import numpy as np              \n",
    "import matplotlib.pyplot as plt\n",
    "from scipy.integrate import odeint                      #in-built solver used to solve the single-stage ode\n",
    "from scipy.integrate import solve_ivp\n",
    "plt.rcParams['figure.dpi'] = 50"
   ]
  },
  {
   "cell_type": "code",
   "execution_count": 4,
   "id": "0dceeea5",
   "metadata": {},
   "outputs": [],
   "source": [
    "#parameters = [a, r, g, del_h, del_p, e_s, e_d, Sds, Ssd] \n",
    "#parameters = [0.5*(10)**(-1), 2.55, 0.001, 0.15, 0.15, 0.3, 0.2, 0.65, 0.26]\n",
    "#parameters = [0.9, 2.55, 0.001, 0.15, 0.15, 0.3, 0.2, 0.65, 0.26]\n",
    "def Phi(L, parameters, H_s, H_d, P):                           #defining the parasitism rate function Phi\n",
    "    a = parameters[0]\n",
    "    g = parameters[2]\n",
    "    Sds = parameters[7]\n",
    "    Ssd = parameters[8]\n",
    "    if L == 's':\n",
    "        return (a*H_s)*(H_s+Sds*H_d)/((H_s+H_d)*(1+a*g*(H_s+Sds*H_d)))\n",
    "    else:\n",
    "        return (a*H_d)*(Ssd*H_s+H_d)/((H_s+H_d)*(1+a*g*(Ssd*H_s+H_d)))\n",
    "    \n",
    "def system(F, t):\n",
    "    H_s, H_d, P = F   \n",
    "    parameters = [1.75, 2.55, 0.001, 0.15, 0.15, 0.3, 0.2, 0.65, 1]     #Parameters are defined her\n",
    "    a = parameters[0]                               \n",
    "    r = parameters[1]\n",
    "    g = parameters[2]\n",
    "    del_h = parameters[3]\n",
    "    del_p = parameters[4]\n",
    "    e_s = parameters[5]\n",
    "    e_d = parameters[6]\n",
    "    Sds = parameters[7]\n",
    "    Ssd = parameters[8]\n",
    "    dH_s = r*H_s*(1-del_h/r-(H_s+H_d))-e_s*Phi('s', parameters, H_s, H_d, P)*P  #Equatings for H_s\n",
    "    dH_d = r*H_d*(1-del_h/r-(H_s+H_d))-e_d*Phi('d', parameters, H_s, H_d, P)*P  #Equation for H_d\n",
    "    dP = P*(e_s*Phi('s', parameters, H_s, H_d, P)+e_d*Phi('d', parameters, H_s, H_d, P))-del_p*P   #Equation for P\n",
    "    return [dH_s, dH_d, dP]"
   ]
  },
  {
   "cell_type": "code",
   "execution_count": 5,
   "id": "cc82129d",
   "metadata": {},
   "outputs": [
    {
     "data": {
      "image/png": "[encoded data removed]",
      "text/plain": [
       "<Figure size 300x200 with 1 Axes>"
      ]
     },
     "metadata": {
      "needs_background": "light"
     },
     "output_type": "display_data"
    }
   ],
   "source": [
    "t = np.linspace(0, 200, 1000)              #Time step of dt = 0.02 in the interval (0,200)\n",
    "x0 = [0.4, 0.4, 0.5]                       #Initial condition is defined here [H_s, H_d, P]\n",
    "sol = odeint(system, x0, t)                #Calling the odeint solver to solve the above system of single-stage model\n",
    "\n",
    "plt.plot(t, sol[:, 0], 'b--', label='$H_s$')  #We plot the immidiate results\n",
    "plt.plot(t, sol[:, 1], 'r--', label='$H_d$')\n",
    "plt.plot(t, sol[:, 2], 'g', label='P')\n",
    "plt.legend(loc='best')\n",
    "plt.xlabel('t')\n",
    "plt.ylabel('Density')\n",
    "plt.grid()\n",
    "plt.show()"
   ]
  },
  {
   "cell_type": "code",
   "execution_count": null,
   "id": "98edf042",
   "metadata": {},
   "outputs": [],
   "source": []
  }
 ],
 "metadata": {
  "kernelspec": {
   "display_name": "Python 3 (ipykernel)",
   "language": "python",
   "name": "python3"
  },
  "language_info": {
   "codemirror_mode": {
    "name": "ipython",
    "version": 3
   },
   "file_extension": ".py",
   "mimetype": "text/x-python",
   "name": "python",
   "nbconvert_exporter": "python",
   "pygments_lexer": "ipython3",
   "version": "3.9.12"
  }
 },
 "nbformat": 4,
 "nbformat_minor": 5
}
