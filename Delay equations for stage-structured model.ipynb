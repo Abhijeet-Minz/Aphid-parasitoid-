{
 "cells": [
  {
   "cell_type": "code",
   "execution_count": 1069,
   "id": "def3d61c",
   "metadata": {},
   "outputs": [],
   "source": [
    "import numpy as np\n",
    "import matplotlib.pyplot as plt\n",
    "\n",
    "\n",
    "#plt.rcParams['figure.figsize'] = [4.0, 4.0]\n",
    "plt.rcParams['figure.dpi'] = 50\n",
    "\n",
    "#plt.style.use('ggplot')"
   ]
  },
  {
   "cell_type": "code",
   "execution_count": null,
   "id": "1d239c05",
   "metadata": {},
   "outputs": [],
   "source": []
  },
  {
   "cell_type": "code",
   "execution_count": 1105,
   "id": "0d172cd7",
   "metadata": {},
   "outputs": [],
   "source": [
    "#Assignment of values of different parameters:\n",
    "alpha = 2.25\n",
    "r = 3\n",
    "gamma = 0.0\n",
    "delta_j = 0.018\n",
    "delta_h = 0.105\n",
    "delta_i = 0.0177\n",
    "delta_p = 0.105\n",
    "tau_h = 9   \n",
    "tau_p = 12\n",
    "epsilon_s = .3\n",
    "epsilon_d = .2\n",
    "s_ds = .65\n",
    "s_sd = 1\n",
    "C = 1\n",
    "s_ss = 1\n",
    "s_dd = 1\n",
    "epsilon = 1e-6\n",
    "eta = 0"
   ]
  },
  {
   "cell_type": "code",
   "execution_count": 1106,
   "id": "9a1b5d3a",
   "metadata": {},
   "outputs": [],
   "source": [
    "# assume all model parameters are defined globally\n",
    "\n",
    "def Phi_k(Js, Jd, k):\n",
    "    if k == 's':\n",
    "        numerator = alpha * (Js + s_ds * Jd)\n",
    "        denominator = (Js + Jd + epsilon) * (1 +  gamma * numerator)\n",
    "    elif k == 'd':\n",
    "        numerator = alpha * (s_sd * Js +  Jd)\n",
    "        denominator = (Js + Jd + epsilon) * (1 +  gamma * numerator ) \n",
    "    else:\n",
    "        raise ValueError('inappropriate value for k ...')\n",
    "    \n",
    "    return numerator / denominator\n",
    "\n",
    "def R_k(Js, Jd, Hs, Hd, k):\n",
    "    # assume C is a global variable\n",
    "    J = Js + Jd\n",
    "    H = Hs + Hd\n",
    "    factor = 1  - (J + H) / C\n",
    "    \n",
    "    if k == 'd':\n",
    "        return  (r - eta) * Hd * factor\n",
    "    elif k == 's':\n",
    "        return  r * Hs * factor\n",
    "    else:\n",
    "        raise ValueError('inappropriate value for k ...')\n",
    "\n",
    "\n",
    "def D_jk(Js, Jd, P, k):\n",
    "    if k == 's':\n",
    "        return delta_j  + epsilon_s * Phi_k(Js, Jd, 's') * P\n",
    "    elif k == 'd':\n",
    "        return delta_j + epsilon_d * Phi_k(Js, Jd, 'd') * P\n",
    "    else:\n",
    "        raise ValueError('inappropriate value for k ...')\n",
    "\n",
    "def R_i(Js, Jd, P):\n",
    "    return (epsilon_s * Phi_k(Js, Jd, k='s') * Js + epsilon_d * Phi_k(Js, Jd, k='d') * Jd) * P\n",
    "\n",
    "def D_hk():\n",
    "    return delta_h\n",
    "\n",
    "def D_i():\n",
    "    return delta_i\n",
    "\n",
    "def D_p():\n",
    "    return delta_p\n",
    "        \n",
    "\n",
    "def history(D_hist, D_new):\n",
    "    # keep only function values at from t - τ to t, where τ = delay_size\n",
    "    \n",
    "    del D_hist[0]          # delete oldest value\n",
    "    D_hist.append(D_new)   # add new value\n",
    "            \n",
    "\n",
    "def delay_integral(D_hist, step_size):\n",
    "    # use the trapezoidal rule (composite)\n",
    "    # R_hist contains function values at the time points of interest\n",
    "    # assume same step size for the quadrature and the integration\n",
    "    # otherwise would require too many function evaluations that are not necessary\n",
    "    \n",
    "    return step_size * ((D_hist[0] + D_hist[-1]) * 0.5 + sum(D_hist[1:-1]))\n",
    "\n",
    "def M_k(R_k_hist, D_jk_hist, step_size):\n",
    "    # note that R_k_hist = R_k(t - τ) but\n",
    "    # D_jk_hist contains the whole history of D_jk from t - τ to t\n",
    "    return np.array(R_k_hist) * np.exp(- delay_integral(D_jk_hist, step_size))\n",
    "\n",
    "def M_i(R_i_hist):\n",
    "    # note that R_i_hist = R_i(t - τ)\n",
    "    # we leverage the fact that D_i(t) = δ_i\n",
    "    return np.array(R_i_hist) * np.exp(- delta_i * tau_p)"
   ]
  },
  {
   "cell_type": "code",
   "execution_count": 1107,
   "id": "092a4b93",
   "metadata": {},
   "outputs": [],
   "source": [
    "def rk4_method(f, u0, tspan, step_size):    #RK4-Method defined for the stage structured-model\n",
    "    '''\n",
    "    Runge-Kutta Method of order 4\n",
    "    Inputs: -- f: vector field, u' = f(t, u): function\n",
    "    -- u0: initial condition: array or list\n",
    "    -- tspan == (t0, tf) or [t0, ts]\n",
    "    -- N: number of steps\n",
    "    Output: ndarray\n",
    "    '''\n",
    "    h = step_size                                             # time step\n",
    "    d = len(u0)                                               # number of variables\n",
    "    N = int((tspan[1] - tspan[0]) / h)                             # number of steps\n",
    "    u = np.empty((N + 1, d), dtype='float64')                                  # solution vector\n",
    "    u[0, : ] = u0                                              # start with u0\n",
    "    t = np.linspace(tspan[0], tspan[1], N, endpoint=True)     # time steps\n",
    "    \n",
    "    #Run RK4 method\n",
    "    for i in range(N):\n",
    "        k1 = h*f(u[i, :], step_size)\n",
    "        k2 = h*f(u[i, :] + k1 / 2, step_size)\n",
    "        k3 = h*f(u[i, :] + k2 / 2, step_size)\n",
    "        k4 = h*f(u[i, :] + k3, step_size)\n",
    "        u[i+1,:] = u[i, :] + (k1 + 2*k2 + 2*k3 + k4) / 6\n",
    "    return u"
   ]
  },
  {
   "cell_type": "code",
   "execution_count": 1108,
   "id": "80d15027",
   "metadata": {},
   "outputs": [],
   "source": [
    "#Dealay Diff Eqns:"
   ]
  },
  {
   "cell_type": "code",
   "execution_count": 1109,
   "id": "ec377e18",
   "metadata": {},
   "outputs": [],
   "source": [
    "def F(U, step_size):\n",
    "    # we assume all parameters and histories are global variables with the exact same names\n",
    "    # could make them local, though\n",
    "    Js, Jd, Hs, Hd, P = U\n",
    "    \n",
    "    R_s_new = R_k(Js, Jd, Hs, Hd, k='s')\n",
    "    R_d_new = R_k(Js, Jd, Hs, Hd, k='d')\n",
    "    R_i_new = R_i(Js, Jd, P)\n",
    "    D_js_new = D_jk(Js, Jd, P, k='s')\n",
    "    D_jd_new = D_jk(Js, Jd, P, k='d')\n",
    "    \n",
    "    # update histories\n",
    "    history(R_s_hist, R_s_new)\n",
    "    history(R_d_hist, R_s_new)\n",
    "    history(R_i_hist, R_i_new)\n",
    "    history(D_js_hist, D_js_new)\n",
    "    history(D_jd_hist, D_jd_new)\n",
    "    \n",
    "    \n",
    "    # evaluate derivatives (vector field)\n",
    "    dJs_dt = R_s_new - Js * D_jk(Js, Jd, P, k='s') - M_k(R_s_hist[0], D_js_hist, step_size)\n",
    "    dJd_dt = R_d_new - Jd * D_jk(Js, Jd, P, k='d') - M_k(R_d_hist[0], D_jd_hist, step_size)\n",
    "    dHs_dt = M_k(R_s_hist[0], D_js_hist, step_size) - Hs * delta_h\n",
    "    dHd_dt = M_k(R_d_hist[0], D_jd_hist, step_size) - Hd * delta_h\n",
    "    dP_dt  = M_i(R_i_hist[0]) - delta_p * P\n",
    "    \n",
    "    #print(R_s_new, \"     \", M_k(R_s_hist[0], D_js_hist, step_size))\n",
    "    \n",
    "    return np.array([dJs_dt, dJd_dt, dHs_dt, dHd_dt, dP_dt])\n",
    "    "
   ]
  },
  {
   "cell_type": "code",
   "execution_count": 1112,
   "id": "a3bf9cba",
   "metadata": {},
   "outputs": [],
   "source": [
    "tf = 1000\n",
    "tspan = [0, tf]  \n",
    "step_size = .5\n",
    "\n",
    "u0 = [0.1, 0.1, 0.4, 0.2, 0.1]     # initial condition\n",
    "# init and past values\n",
    "js, jd, hs, hd, p = u0\n",
    "\n",
    "# use the same value for past \n",
    "n_h = int(tau_h / step_size)\n",
    "n_p = int(tau_p / step_size)\n",
    "\n",
    "js = [js] * max(n_h, n_p)  \n",
    "jd = [jd] * max(n_h, n_p)\n",
    "hs = [hs] * max(n_h, n_p)\n",
    "hd = [hd] * max(n_h, n_p)\n",
    "p = [p] * max(n_h, n_p)\n",
    "\n",
    "# sums\n",
    "j = js + jd\n",
    "h = hs + hd\n",
    "\n",
    "\n",
    "\n",
    "# initialize histories\n",
    "R_s_hist = list(np.zeros(n_h))\n",
    "R_d_hist = list(np.zeros(n_h))\n",
    "R_i_hist = list(np.zeros(n_p))\n",
    "D_js_hist = list(np.zeros(n_h))\n",
    "D_jd_hist = list(np.zeros(n_h))\n",
    "\n",
    "sol = rk4_method(F, u0, tspan, step_size)"
   ]
  },
  {
   "cell_type": "code",
   "execution_count": 1113,
   "id": "eedd6e61",
   "metadata": {},
   "outputs": [
    {
     "data": {
      "image/png": "[encoded data removed]",
      "text/plain": [
       "<Figure size 320x240 with 1 Axes>"
      ]
     },
     "metadata": {},
     "output_type": "display_data"
    },
    {
     "data": {
      "image/png": "[encoded data removed]",
      "text/plain": [
       "<Figure size 320x240 with 1 Axes>"
      ]
     },
     "metadata": {},
     "output_type": "display_data"
    },
    {
     "data": {
      "image/png": "[encoded data removed]",
      "text/plain": [
       "<Figure size 320x240 with 1 Axes>"
      ]
     },
     "metadata": {},
     "output_type": "display_data"
    }
   ],
   "source": [
    "labels = ['$J_s$', '$J_d$', '$H_s$', '$H_d$', 'P']\n",
    "\n",
    "for i in range(5):\n",
    "    if i == 1:\n",
    "        plt.plot(np.linspace(0, tf, len(sol[:,i])), sol[:,i], 'r-.',  label=labels[i])\n",
    "        plt.xlabel(\"days\")\n",
    "        plt.ylabel(\"Density\")\n",
    "        plt.xticks(fontsize=12)\n",
    "        plt.yticks(fontsize=12)\n",
    "        plt.legend()\n",
    "        #plt.title(\"Juvenile aphids\", fontsize=18)\n",
    "        plt.show()\n",
    "    elif i == 3:\n",
    "        plt.plot(np.linspace(0, tf, len(sol[:,i])), sol[:,i], 'r-.', label=labels[i])\n",
    "        plt.xlabel(\"days\")\n",
    "        plt.ylabel(\"Density\")\n",
    "        plt.xticks(fontsize=12)\n",
    "        plt.yticks(fontsize=12)\n",
    "        plt.legend()\n",
    "        #plt.title(\"Adult aphids\", fontsize=18)\n",
    "        plt.show()\n",
    "    elif i==4:\n",
    "        plt.plot(np.linspace(0, tf, len(sol[:,i])), sol[:,i], 'g-', label=labels[i])\n",
    "    else:\n",
    "        plt.plot(np.linspace(0, tf, len(sol[:,i])), sol[:,i], 'b-', label=labels[i])\n",
    "        \n",
    "plt.xlabel(\"days\")\n",
    "plt.ylabel(\"Density\")\n",
    "plt.xticks(fontsize=12)\n",
    "plt.yticks(fontsize=12)\n",
    "plt.legend()\n",
    "#plt.title(\"Parasitoids\", fontsize=18)\n",
    "plt.show()"
   ]
  },
  {
   "cell_type": "code",
   "execution_count": null,
   "id": "6c3d5793",
   "metadata": {},
   "outputs": [],
   "source": []
  },
  {
   "cell_type": "code",
   "execution_count": null,
   "id": "5df8a34b",
   "metadata": {},
   "outputs": [],
   "source": []
  },
  {
   "cell_type": "code",
   "execution_count": null,
   "id": "a2be1b85",
   "metadata": {},
   "outputs": [],
   "source": []
  },
  {
   "cell_type": "code",
   "execution_count": null,
   "id": "946ee11e",
   "metadata": {},
   "outputs": [],
   "source": []
  },
  {
   "cell_type": "code",
   "execution_count": null,
   "id": "be9f2375",
   "metadata": {},
   "outputs": [],
   "source": []
  },
  {
   "cell_type": "code",
   "execution_count": null,
   "id": "77ad8791",
   "metadata": {},
   "outputs": [],
   "source": []
  },
  {
   "cell_type": "code",
   "execution_count": null,
   "id": "1d5dcba0",
   "metadata": {},
   "outputs": [],
   "source": []
  },
  {
   "cell_type": "code",
   "execution_count": null,
   "id": "4cb0246b",
   "metadata": {},
   "outputs": [],
   "source": []
  },
  {
   "cell_type": "code",
   "execution_count": null,
   "id": "f41199f7",
   "metadata": {},
   "outputs": [],
   "source": []
  }
 ],
 "metadata": {
  "kernelspec": {
   "display_name": "Python 3 (ipykernel)",
   "language": "python",
   "name": "python3"
  },
  "language_info": {
   "codemirror_mode": {
    "name": "ipython",
    "version": 3
   },
   "file_extension": ".py",
   "mimetype": "text/x-python",
   "name": "python",
   "nbconvert_exporter": "python",
   "pygments_lexer": "ipython3",
   "version": "3.9.12"
  }
 },
 "nbformat": 4,
 "nbformat_minor": 5
}
